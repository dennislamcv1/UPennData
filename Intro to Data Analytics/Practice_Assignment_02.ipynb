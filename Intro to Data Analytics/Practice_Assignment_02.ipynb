{
 "cells": [
  {
   "cell_type": "markdown",
   "metadata": {
    "deletable": false,
    "editable": false,
    "nbgrader": {
     "checksum": "2e337f59d0b7f790547623991a774aff",
     "grade": false,
     "grade_id": "cell-3f6367686e0e0548",
     "locked": true,
     "schema_version": 1,
     "solution": false
    }
   },
   "source": [
    "# Practice Assignment 2\n",
    "# Joining & Filtering Data"
   ]
  },
  {
   "cell_type": "markdown",
   "metadata": {
    "deletable": false,
    "editable": false,
    "nbgrader": {
     "checksum": "b48152cc4c898a167ecea696e89b9374",
     "grade": false,
     "grade_id": "cell-2b7743af336e7e56",
     "locked": true,
     "schema_version": 1,
     "solution": false
    }
   },
   "source": [
    "For this practice assignment some of the code has been written for you ahead of time.  Cells you just need to run are mark 'Run this cell'.  For each question, there are clear instructions in each cell. Follow those instructions and write the code after each block of:\n",
    "\n",
    "YOUR CODE HERE\n",
    "\n",
    "Please use the exact variable name if it is specified in the comment.\n",
    "\n",
    "We’ll run a Python test script against your program to test whether each function implementation is correct."
   ]
  },
  {
   "cell_type": "code",
   "execution_count": null,
   "metadata": {
    "deletable": false,
    "editable": false,
    "nbgrader": {
     "checksum": "9c8f0a4a4fd324323260e41b70126332",
     "grade": true,
     "grade_id": "init_test",
     "locked": true,
     "points": 0,
     "schema_version": 1,
     "solution": false
    }
   },
   "outputs": [],
   "source": [
    "%%capture\n",
    "###########################################################\n",
    "### EXECUTE THIS CELL BEFORE YOU TO TEST YOUR SOLUTIONS ###\n",
    "###########################################################\n",
    "\"\"\"\n",
    "Loading the necessary python libraries\n",
    "\"\"\"\n",
    "import imp\n",
    "import pandas as pd\n",
    "import numpy as np\n",
    "from nose.tools import assert_equal\n",
    "from pandas.util.testing import assert_frame_equal, assert_series_equal\n",
    "sol = imp.load_compiled(\"sol\", \"./.sol.py\")"
   ]
  },
  {
   "cell_type": "code",
   "execution_count": null,
   "metadata": {
    "deletable": false,
    "editable": false,
    "nbgrader": {
     "checksum": "c80b1fe0070e3df39b312765332cb6be",
     "grade": true,
     "grade_id": "init_1",
     "locked": true,
     "points": 0,
     "schema_version": 1,
     "solution": false
    }
   },
   "outputs": [],
   "source": [
    "\"\"\"\n",
    "First we need to load the dataset and preprocess the data. The below code comes from some of the work done in Practice Assignment 01.\n",
    "\"\"\"\n",
    "\n",
    "#Run this cell\n",
    "restaurant_location_df = pd.read_csv(\"geoplaces2.csv\")\n",
    "restaurant_accept_df = pd.read_csv(\"chefmozaccepts.csv\")\n",
    "restaurant_cuisine_df = pd.read_csv(\"chefmozcuisine.csv\")\n",
    "rating_final_df = pd.read_csv(\"rating_final.csv\")\n",
    "user_profile_df = pd.read_csv(\"userprofile.csv\")\n",
    "\n",
    "restaurant_location_df = restaurant_location_df[[\"placeID\", \"name\", \"address\", \"city\", \"state\", \"country\", \"price\", \"alcohol\"]]\n",
    "restaurant_location_df = restaurant_location_df.apply(lambda x: x.astype(str).str.lower())\n",
    "restaurant_location_df = restaurant_location_df.astype({'placeID':'int',\"name\":\"string\", \"address\":\"string\",\"city\":\"string\", \"state\":\"string\", \"country\":\"string\", \"price\":\"string\", \"alcohol\": \"string\"})\n",
    "restaurant_location_df = restaurant_location_df.replace('\\?', np.nan, regex=True).dropna().reset_index(drop = True)\n",
    "user_profile_df = user_profile_df.replace('\\?', np.nan, regex=True)\n",
    "user_profile_df = user_profile_df[['userID', 'smoker', 'drink_level', 'marital_status', 'birth_year']]\n",
    "\n",
    "#Since The values in column 'smoker' are strings, we have to convert them to boolean values\n",
    "user_profile_df['smoker'] = user_profile_df['smoker'].map({'true': True, 'false': False})\n",
    "###"
   ]
  },
  {
   "cell_type": "code",
   "execution_count": null,
   "metadata": {
    "deletable": false,
    "editable": false,
    "nbgrader": {
     "checksum": "48bd14244c8ccc7117728417bf198413",
     "grade": true,
     "grade_id": "init_2",
     "locked": true,
     "points": 0,
     "schema_version": 1,
     "solution": false
    }
   },
   "outputs": [],
   "source": [
    "\"\"\"\n",
    "Lets first examine the columns and datatypes for our \"restaurant_location_df\" dataframe.\n",
    "\"\"\"\n",
    "\n",
    "#Run this cell\n",
    "restaurant_location_df.info()"
   ]
  },
  {
   "cell_type": "code",
   "execution_count": null,
   "metadata": {
    "deletable": false,
    "editable": false,
    "nbgrader": {
     "checksum": "5a538fd6ad2d3b0d4503e8565025ee5d",
     "grade": true,
     "grade_id": "init_3",
     "locked": true,
     "points": 0,
     "schema_version": 1,
     "solution": false
    }
   },
   "outputs": [],
   "source": [
    "\"\"\"\n",
    "Now let's display the \"restaurant_location_df\" dataframe.  As a reminder, we can use display() to display\n",
    "dataframes as easy-to-read html tables.\n",
    "\"\"\"\n",
    "\n",
    "#Run this cell\n",
    "display(restaurant_location_df)"
   ]
  },
  {
   "cell_type": "code",
   "execution_count": null,
   "metadata": {
    "deletable": false,
    "editable": false,
    "nbgrader": {
     "checksum": "5364a6b56bfa230aa2c1e85a332b8c6a",
     "grade": true,
     "grade_id": "init_4",
     "locked": true,
     "points": 0,
     "schema_version": 1,
     "solution": false
    }
   },
   "outputs": [],
   "source": [
    "\"\"\"\n",
    "To quickly get an idea of the rows in all of the dataframes, we'll use .head() in the following 4 cells.\n",
    "View the first 5 rows for \"restaurant_accept_df\".\n",
    "\"\"\"\n",
    "\n",
    "#Run this cell\n",
    "restaurant_accept_df.head()"
   ]
  },
  {
   "cell_type": "code",
   "execution_count": null,
   "metadata": {
    "deletable": false,
    "editable": false,
    "nbgrader": {
     "checksum": "fa11f32da494b0f8fefe6dea3e729cdd",
     "grade": true,
     "grade_id": "init_5",
     "locked": true,
     "points": 0,
     "schema_version": 1,
     "solution": false
    }
   },
   "outputs": [],
   "source": [
    "\"\"\"\n",
    "View the first 5 rows for \"restaurant_cuisine_df\".\n",
    "\"\"\"\n",
    "\n",
    "#Run this cell\n",
    "restaurant_cuisine_df.head()"
   ]
  },
  {
   "cell_type": "code",
   "execution_count": null,
   "metadata": {
    "deletable": false,
    "editable": false,
    "nbgrader": {
     "checksum": "a2e664032d5f3037f347347c5bec51bf",
     "grade": true,
     "grade_id": "init_6",
     "locked": true,
     "points": 0,
     "schema_version": 1,
     "solution": false
    }
   },
   "outputs": [],
   "source": [
    "\"\"\"\n",
    "View the first 5 rows for \"user_profile_df\".\n",
    "\"\"\"\n",
    "\n",
    "#Run this cell\n",
    "user_profile_df.head()"
   ]
  },
  {
   "cell_type": "code",
   "execution_count": null,
   "metadata": {
    "deletable": false,
    "editable": false,
    "nbgrader": {
     "checksum": "a36c1c7b8ec2dc15d0ae006bf91a395b",
     "grade": true,
     "grade_id": "init_7",
     "locked": true,
     "points": 0,
     "schema_version": 1,
     "solution": false
    }
   },
   "outputs": [],
   "source": [
    "\"\"\"\n",
    "View the first 5 rows for \"rating_final_df\".\n",
    "\"\"\"\n",
    "\n",
    "#Run this cell\n",
    "rating_final_df.head()"
   ]
  },
  {
   "cell_type": "code",
   "execution_count": null,
   "metadata": {
    "deletable": false,
    "nbgrader": {
     "checksum": "54b6ec5f5fa8fa28726f5f6820574c2d",
     "grade": false,
     "grade_id": "q1",
     "locked": false,
     "schema_version": 1,
     "solution": true
    }
   },
   "outputs": [],
   "source": [
    "\"\"\"\n",
    "Part 01\n",
    "\n",
    "1. We want to see which restaurants can accept VISA payments.  In order to do this we need to merge\n",
    "\"restaurant_location_df\" and \"restaurant_accept_df\".  Do this as a left join and store in a new dataframe called\n",
    "\"joined_df\".  Examine both dataframes to identify the best columns to merge on.\n",
    "\n",
    "2. Display the first 5 rows of \"joined_df\"\n",
    "\n",
    "3. Create a new dataframe called \"restaurant_visa_df\" which contains only two columns from \"joined_df\":\n",
    "'name' and 'Rpayment'.  Also filter the dataframe so that the 'Rpayment' column only contains those who paid\n",
    "with 'VISA'. \n",
    "\n",
    "*** Please note: After performing the merge and filtering operations, ensure reset_index(drop=True) \n",
    "before submission to aviod Index-related Errors.\n",
    "\n",
    "4. Display the first 10 rows of \"restaurant_visa_df\"\n",
    "\"\"\"\n",
    "\n",
    "# YOUR CODE HERE\n"
   ]
  },
  {
   "cell_type": "code",
   "execution_count": null,
   "metadata": {
    "deletable": false,
    "editable": false,
    "nbgrader": {
     "checksum": "d65cf17360dfc998716324f6c156ef3e",
     "grade": true,
     "grade_id": "q1_test",
     "locked": true,
     "points": 1,
     "schema_version": 1,
     "solution": false
    }
   },
   "outputs": [],
   "source": [
    "##########################\n",
    "### TEST YOUR SOLUTION ###\n",
    "##########################\n",
    "\n",
    "assert_frame_equal(joined_df, sol.joined_df)\n",
    "print(\"test joined_df correct\")\n",
    "assert_frame_equal(restaurant_visa_df, sol.restaurant_visa_df)\n",
    "print(\"test restaurant_visa_df correct\")\n"
   ]
  },
  {
   "cell_type": "code",
   "execution_count": null,
   "metadata": {
    "deletable": false,
    "nbgrader": {
     "checksum": "cd152e9a967bec97e4c52e0d60312261",
     "grade": false,
     "grade_id": "q2",
     "locked": false,
     "schema_version": 1,
     "solution": true
    }
   },
   "outputs": [],
   "source": [
    "\"\"\"\n",
    "Part 02\n",
    "\n",
    "1. First lets merge \"restaurant_location_df\" and \"rating_final_df\" with a left join.  Store the result in a new\n",
    "dataframe called \"restaurant_mean_rating_df\".  Examine both dataframes to identify the best columns to merge on.\n",
    "\n",
    "2. \"restaurant_mean_rating_df\" should only keep 3 columns after it has been merged: 'name', 'food_rating',\n",
    "and 'service_rating'.\n",
    "\n",
    "3. Filter \"restaurant_mean_rating_df\" by its 'name' column, for restaurants with the name\n",
    "'restaurant bar coty y pablo'\n",
    "\n",
    "4. Display the updated \"restaurant_mean_rating_df\".  Hint: If everything was completed correctly, you should\n",
    "have 3 columns and 6 rows.\n",
    "\n",
    "5. Calculate the average (mean) of the 'food_rating' column and store in a new variable called\n",
    "\"mean_food_rating_pablo\"\n",
    "\n",
    "6. Calculate the average (mean) of the 'service_rating' column and store in a new variable called\n",
    "\"mean_ser_rating_pablo\"\n",
    "\n",
    "7. Print both of the means you just calculated\n",
    "\"\"\"\n",
    "\n",
    "# YOUR CODE HERE\n"
   ]
  },
  {
   "cell_type": "code",
   "execution_count": null,
   "metadata": {
    "deletable": false,
    "editable": false,
    "nbgrader": {
     "checksum": "587a1d3baeeb8b3eec627914fb594273",
     "grade": true,
     "grade_id": "q2_test",
     "locked": true,
     "points": 1,
     "schema_version": 1,
     "solution": false
    }
   },
   "outputs": [],
   "source": [
    "##########################\n",
    "### TEST YOUR SOLUTION ###\n",
    "##########################\n",
    "\n",
    "\n",
    "assert_frame_equal(restaurant_mean_rating_df, sol.restaurant_mean_rating_df)\n",
    "print(\"test restaurant_mean_rating_df correct\")\n",
    "assert_equal(mean_food_rating_pablo, sol.mean_food_rating_pablo)\n",
    "print(\"test mean_food_rating_pablo correct\")\n",
    "assert_equal(mean_ser_rating_pablo, sol.mean_ser_rating_pablo)\n",
    "print(\"test mean_ser_rating_pablo correct\")\n",
    "\n"
   ]
  },
  {
   "cell_type": "code",
   "execution_count": null,
   "metadata": {
    "deletable": false,
    "nbgrader": {
     "checksum": "8d2ab810353826b4c52dd97095180372",
     "grade": false,
     "grade_id": "q3",
     "locked": false,
     "schema_version": 1,
     "solution": true
    }
   },
   "outputs": [],
   "source": [
    "\"\"\"\n",
    "Part 03\n",
    "\n",
    "For this part we want to see the average rating of all restaurants by \"single smokers\" and the average\n",
    "rating of all restaurants by \"married non-smokers\".\n",
    "\n",
    "1. Merge \"rating_final_df\" (as the left df) and \"user_profile_df\" (as the right df) using an inner join, and name the resulting dataframe\n",
    "\"join_rating_df\".  Examine both dataframes to identify the best columns to merge on.\n",
    "\n",
    "2. Create a new dataframe called \"single_smoke_df\", which has 3 columns: 'smoker', 'marital_status',\n",
    "and 'rating'. This should be a slice of the join_rating_df your just created.\n",
    "\n",
    "3. Filter \"single_smoke_df\" where the 'smoker' column is True, and the 'marital_status' column is 'single'\n",
    "\n",
    "4. Calcualate the average (mean) of the ratings in \"single_smoke_df\" and store in a variable called\n",
    "\"single_smoke_rating\"\n",
    "\n",
    "5. Repeat steps 2 - 4 for married non-smokers and name the dataframe \"married_nonsmoke_df\" and the final average\n",
    "variable \"married_nonsmoke_rating\".  Hint: We are asking for non-smokers now, so adjust your filters as needed.\n",
    "\n",
    "6. Print out the results for your variables rounded to 2 decimal places ('single_smoke_rating' and\n",
    "'married_nonsmoke_rating')\n",
    "\"\"\"\n",
    "\n",
    "# YOUR CODE HERE\n"
   ]
  },
  {
   "cell_type": "code",
   "execution_count": null,
   "metadata": {
    "deletable": false,
    "editable": false,
    "nbgrader": {
     "checksum": "dee10dfea1f0fd6b98141ecf54d572f2",
     "grade": true,
     "grade_id": "q3_test",
     "locked": true,
     "points": 1,
     "schema_version": 1,
     "solution": false
    }
   },
   "outputs": [],
   "source": [
    "##########################\n",
    "### TEST YOUR SOLUTION ###\n",
    "##########################\n",
    "\n",
    "assert_frame_equal(join_rating_df, sol.join_rating_df)\n",
    "print(\"test join_rating_df correct\")\n",
    "\n",
    "assert_frame_equal(single_smoke_df, sol.single_smoke_df)\n",
    "print(\"test single_smoke_df correct\")\n",
    "\n",
    "assert_equal(single_smoke_rating, sol.single_smoke_rating)\n",
    "print(\"test single_smoke_rating correct\")\n",
    "\n",
    "assert_frame_equal(married_nonsmoke_df, sol.married_nonsmoke_df)\n",
    "print(\"test married_nonsmoke_df correct\")\n",
    "assert_equal(married_nonsmoke_rating, sol.married_nonsmoke_rating)\n",
    "print(\"test married_nonsmoke_rating correct\")\n"
   ]
  }
 ],
 "metadata": {
  "anaconda-cloud": {},
  "kernelspec": {
   "display_name": "Python 3",
   "language": "python",
   "name": "python3"
  },
  "language_info": {
   "codemirror_mode": {
    "name": "ipython",
    "version": 3
   },
   "file_extension": ".py",
   "mimetype": "text/x-python",
   "name": "python",
   "nbconvert_exporter": "python",
   "pygments_lexer": "ipython3",
   "version": "3.6.9"
  }
 },
 "nbformat": 4,
 "nbformat_minor": 1
}
