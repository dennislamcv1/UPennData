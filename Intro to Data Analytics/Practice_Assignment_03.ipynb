{
 "cells": [
  {
   "cell_type": "markdown",
   "metadata": {
    "deletable": false,
    "editable": false,
    "nbgrader": {
     "checksum": "65d7b2589e95a7e3d938e4111719089b",
     "grade": false,
     "grade_id": "cell-3f6367686e0e0548",
     "locked": true,
     "schema_version": 1,
     "solution": false
    }
   },
   "source": [
    "# Practice Assignment 3\n",
    "# Summarizing Data"
   ]
  },
  {
   "cell_type": "markdown",
   "metadata": {
    "deletable": false,
    "editable": false,
    "nbgrader": {
     "checksum": "b48152cc4c898a167ecea696e89b9374",
     "grade": false,
     "grade_id": "cell-2b7743af336e7e56",
     "locked": true,
     "schema_version": 1,
     "solution": false
    }
   },
   "source": [
    "For this practice assignment some of the code has been written for you ahead of time.  Cells you just need to run are mark 'Run this cell'.  For each question, there are clear instructions in each cell. Follow those instructions and write the code after each block of:\n",
    "\n",
    "YOUR CODE HERE\n",
    "\n",
    "Please use the exact variable name if it is specified in the comment.\n",
    "\n",
    "We’ll run a Python test script against your program to test whether each function implementation is correct."
   ]
  },
  {
   "cell_type": "code",
   "execution_count": null,
   "metadata": {
    "deletable": false,
    "editable": false,
    "nbgrader": {
     "checksum": "9c8f0a4a4fd324323260e41b70126332",
     "grade": true,
     "grade_id": "init_test",
     "locked": true,
     "points": 0,
     "schema_version": 1,
     "solution": false
    }
   },
   "outputs": [],
   "source": [
    "%%capture\n",
    "###########################################################\n",
    "### EXECUTE THIS CELL BEFORE YOU TO TEST YOUR SOLUTIONS ###\n",
    "###########################################################\n",
    "\"\"\"\n",
    "Loading the necessary python libraries\n",
    "\"\"\"\n",
    "import imp\n",
    "import pandas as pd\n",
    "import numpy as np\n",
    "from nose.tools import assert_equal\n",
    "from pandas.util.testing import assert_frame_equal, assert_series_equal\n",
    "sol = imp.load_compiled(\"sol\", \"./.sol.py\")"
   ]
  },
  {
   "cell_type": "code",
   "execution_count": null,
   "metadata": {
    "deletable": false,
    "editable": false,
    "nbgrader": {
     "checksum": "c80b1fe0070e3df39b312765332cb6be",
     "grade": true,
     "grade_id": "init_1",
     "locked": true,
     "points": 0,
     "schema_version": 1,
     "solution": false
    }
   },
   "outputs": [],
   "source": [
    "\"\"\"\n",
    "First we need to load the dataset and preprocess the data. The below code comes from some of the work done in Practice Assignment 01.\n",
    "\"\"\"\n",
    "\n",
    "#Run this cell\n",
    "restaurant_location_df = pd.read_csv(\"geoplaces2.csv\")\n",
    "restaurant_accept_df = pd.read_csv(\"chefmozaccepts.csv\")\n",
    "restaurant_cuisine_df = pd.read_csv(\"chefmozcuisine.csv\")\n",
    "rating_final_df = pd.read_csv(\"rating_final.csv\")\n",
    "user_profile_df = pd.read_csv(\"userprofile.csv\")\n",
    "\n",
    "restaurant_location_df = restaurant_location_df[[\"placeID\", \"name\", \"address\", \"city\", \"state\", \"country\", \"price\", \"alcohol\"]]\n",
    "restaurant_location_df = restaurant_location_df.apply(lambda x: x.astype(str).str.lower())\n",
    "restaurant_location_df = restaurant_location_df.astype({'placeID':'int',\"name\":\"string\", \"address\":\"string\",\"city\":\"string\", \"state\":\"string\", \"country\":\"string\", \"price\":\"string\", \"alcohol\": \"string\"})\n",
    "restaurant_location_df = restaurant_location_df.replace('\\?', np.nan, regex=True).dropna().reset_index(drop = True)\n",
    "user_profile_df = user_profile_df.replace('\\?', np.nan, regex=True)\n",
    "user_profile_df = user_profile_df[['userID', 'smoker', 'drink_level', 'marital_status', 'birth_year']]\n",
    "\n",
    "#Since The values in column 'smoker' are strings, we have to convert them to boolean values\n",
    "user_profile_df['smoker'] = user_profile_df['smoker'].map({'true': True, 'false': False})\n",
    "###"
   ]
  },
  {
   "cell_type": "code",
   "execution_count": null,
   "metadata": {
    "deletable": false,
    "editable": false,
    "nbgrader": {
     "checksum": "48bd14244c8ccc7117728417bf198413",
     "grade": true,
     "grade_id": "init_2",
     "locked": true,
     "points": 0,
     "schema_version": 1,
     "solution": false
    }
   },
   "outputs": [],
   "source": [
    "\"\"\"\n",
    "Lets first examine the columns and datatypes for our \"restaurant_location_df\" dataframe.\n",
    "\"\"\"\n",
    "\n",
    "#Run this cell\n",
    "restaurant_location_df.info()"
   ]
  },
  {
   "cell_type": "code",
   "execution_count": null,
   "metadata": {
    "deletable": false,
    "editable": false,
    "nbgrader": {
     "checksum": "5a538fd6ad2d3b0d4503e8565025ee5d",
     "grade": true,
     "grade_id": "init_3",
     "locked": true,
     "points": 0,
     "schema_version": 1,
     "solution": false
    }
   },
   "outputs": [],
   "source": [
    "\"\"\"\n",
    "Now let's display the \"restaurant_location_df\" dataframe.  As a reminder, we can use display() to display\n",
    "dataframes as easy-to-read html tables.\n",
    "\"\"\"\n",
    "\n",
    "#Run this cell\n",
    "display(restaurant_location_df)"
   ]
  },
  {
   "cell_type": "code",
   "execution_count": null,
   "metadata": {
    "deletable": false,
    "editable": false,
    "nbgrader": {
     "checksum": "5364a6b56bfa230aa2c1e85a332b8c6a",
     "grade": true,
     "grade_id": "init_4",
     "locked": true,
     "points": 0,
     "schema_version": 1,
     "solution": false
    }
   },
   "outputs": [],
   "source": [
    "\"\"\"\n",
    "To quickly get an idea of the rows in all of the dataframes, we'll use .head() in the following 4 cells.\n",
    "View the first 5 rows for \"restaurant_accept_df\".\n",
    "\"\"\"\n",
    "\n",
    "#Run this cell\n",
    "restaurant_accept_df.head()"
   ]
  },
  {
   "cell_type": "code",
   "execution_count": null,
   "metadata": {
    "deletable": false,
    "editable": false,
    "nbgrader": {
     "checksum": "fa11f32da494b0f8fefe6dea3e729cdd",
     "grade": true,
     "grade_id": "init_5",
     "locked": true,
     "points": 0,
     "schema_version": 1,
     "solution": false
    }
   },
   "outputs": [],
   "source": [
    "\"\"\"\n",
    "View the first 5 rows for \"restaurant_cuisine_df\".\n",
    "\"\"\"\n",
    "\n",
    "#Run this cell\n",
    "restaurant_cuisine_df.head()"
   ]
  },
  {
   "cell_type": "code",
   "execution_count": null,
   "metadata": {
    "deletable": false,
    "editable": false,
    "nbgrader": {
     "checksum": "a2e664032d5f3037f347347c5bec51bf",
     "grade": true,
     "grade_id": "init_6",
     "locked": true,
     "points": 0,
     "schema_version": 1,
     "solution": false
    }
   },
   "outputs": [],
   "source": [
    "\"\"\"\n",
    "View the first 5 rows for \"user_profile_df\".\n",
    "\"\"\"\n",
    "\n",
    "#Run this cell\n",
    "user_profile_df.head()"
   ]
  },
  {
   "cell_type": "code",
   "execution_count": null,
   "metadata": {
    "deletable": false,
    "editable": false,
    "nbgrader": {
     "checksum": "a36c1c7b8ec2dc15d0ae006bf91a395b",
     "grade": true,
     "grade_id": "init_7",
     "locked": true,
     "points": 0,
     "schema_version": 1,
     "solution": false
    }
   },
   "outputs": [],
   "source": [
    "\"\"\"\n",
    "View the first 5 rows for \"rating_final_df\".\n",
    "\"\"\"\n",
    "\n",
    "#Run this cell\n",
    "rating_final_df.head()"
   ]
  },
  {
   "cell_type": "code",
   "execution_count": null,
   "metadata": {
    "deletable": false,
    "nbgrader": {
     "checksum": "ede426841c2175c68c427767509d2cdd",
     "grade": false,
     "grade_id": "q1",
     "locked": false,
     "schema_version": 1,
     "solution": true
    }
   },
   "outputs": [],
   "source": [
    "\"\"\"\n",
    "Part 01\n",
    "\n",
    "1. In order to have a better view of the payment methods of each restaurant, we are going to merge\n",
    "\"restaurant_location_df\" and \"restaurant_accept_df\".  Use an inner join for this merge, and merge on 'placeID'.\n",
    "The resulting dataframe should be called \"accept_payment_df\" and only contain 2 columns 'name' and 'Rpayment'.\n",
    "\n",
    "2. Next we want to group by the 'name' column, and update the 'Rpayment' column to contain a comma seperated\n",
    "string, e.g. 'cash, VISA, MasterCard-Eurocard'.\n",
    "Hint: Using the agg() function here will help with forming the comma seperated string in the 'Rpayment' column.\n",
    "For reference: https://stackoverflow.com/questions/58179593/how-to-combine-join-and-lambda-x-x-tolist-inside-an-groupby-agg-functio\n",
    "Note: Don't forget to use 'reset_index' after using agg() here. \n",
    "\n",
    "3. Display \"accept_payment_df\"\n",
    "\"\"\"\n",
    "\n",
    "# YOUR CODE HERE\n"
   ]
  },
  {
   "cell_type": "code",
   "execution_count": null,
   "metadata": {
    "deletable": false,
    "editable": false,
    "nbgrader": {
     "checksum": "41f9ff5af340bf1f085dd1ea5bb9c330",
     "grade": true,
     "grade_id": "q1_test",
     "locked": true,
     "points": 1,
     "schema_version": 1,
     "solution": false
    }
   },
   "outputs": [],
   "source": [
    "##########################\n",
    "### TEST YOUR SOLUTION ###\n",
    "##########################\n",
    "\n",
    "assert_frame_equal(accept_payment_df, sol.accept_payment_df)\n",
    "print(\"test accept_payment_df correct\")\n"
   ]
  },
  {
   "cell_type": "code",
   "execution_count": null,
   "metadata": {
    "deletable": false,
    "nbgrader": {
     "checksum": "a321ed91885e725b16131586c98b0a17",
     "grade": false,
     "grade_id": "q2",
     "locked": false,
     "schema_version": 1,
     "solution": true
    }
   },
   "outputs": [],
   "source": [
    "\"\"\"\n",
    "Part 02\n",
    "\n",
    "1. Using \"restaurant_location_df\", group by the 'alcohol' column and store in a dataframe called\n",
    "\"grouped_alcohol_df\"\n",
    "\n",
    "2. From this new dataframe get a list of all unique values in the 'alcohol' column, and store this in a variable\n",
    "called 'alcohol_serve_type'\n",
    "\n",
    "3. Print out the variable 'alcohol_serve_type'\n",
    "\"\"\"\n",
    "\n",
    "# YOUR CODE HERE\n"
   ]
  },
  {
   "cell_type": "code",
   "execution_count": null,
   "metadata": {
    "deletable": false,
    "editable": false,
    "nbgrader": {
     "checksum": "9c14b06b55f09f015e597be6122b4050",
     "grade": true,
     "grade_id": "q2_test",
     "locked": true,
     "points": 1,
     "schema_version": 1,
     "solution": false
    }
   },
   "outputs": [],
   "source": [
    "##########################\n",
    "### TEST YOUR SOLUTION ###\n",
    "##########################\n",
    "\n",
    "assert_equal(list(alcohol_serve_type), list(sol.alcohol_serve_type))\n",
    "print(\"test alcohol_serve_type correct\")"
   ]
  },
  {
   "cell_type": "code",
   "execution_count": null,
   "metadata": {
    "deletable": false,
    "nbgrader": {
     "checksum": "19400d7d0aa1071cd1f4025fd583fc78",
     "grade": false,
     "grade_id": "q3",
     "locked": false,
     "schema_version": 1,
     "solution": true
    }
   },
   "outputs": [],
   "source": [
    "\"\"\"\n",
    "Part 03\n",
    "\n",
    "1. Create a new dataframe called \"alcohol_service_df\". This dataframe is a copy of \"restaurant_location_df\" with\n",
    "only the 'name' and 'alcohol' columns\n",
    "Hint: Use the .copy() method when creating a new dataframe from those 2 columns\n",
    "\n",
    "2. We want to see how many restaurants serve 'alcohol' and how many do not. To do this we need to create a new\n",
    "column 'is_alcohol_served' in the \"alcohol_service_df\" dataframe.  Set the column's default value to 1.\n",
    "\n",
    "3. Change the value of 'is_alcohol_served' to 0 if the value in the column 'alcohol' is \"no_alcohol_served\".\n",
    "Hint, use this useful link: https://datatofish.com/if-condition-in-pandas-dataframe/\n",
    "\n",
    "3. Find the number of places where alcohol is served and store as 'num_with_alcohol'\n",
    "\n",
    "4. Find the number of places where alcohol is NOT served and store as 'num_without_alcohol'\n",
    "\n",
    "5. Print both 'num_with_alcohol' and 'num_without_alcohol'\n",
    "\"\"\"\n",
    "\n",
    "# YOUR CODE HERE\n"
   ]
  },
  {
   "cell_type": "code",
   "execution_count": null,
   "metadata": {
    "deletable": false,
    "editable": false,
    "nbgrader": {
     "checksum": "4887300ecfd422d01360936b3eb6e118",
     "grade": true,
     "grade_id": "q3_test",
     "locked": true,
     "points": 1,
     "schema_version": 1,
     "solution": false
    }
   },
   "outputs": [],
   "source": [
    "##########################\n",
    "### TEST YOUR SOLUTION ###\n",
    "##########################\n",
    "\n",
    "assert_frame_equal(alcohol_service_df, sol.alcohol_service_df)\n",
    "print(\"test alcohol_service_df correct\")\n",
    "\n",
    "assert_equal(num_with_alcohol, sol.num_with_alcohol)\n",
    "print(\"test num_with_alcohol correct\")\n",
    "assert_equal(num_without_alcohol, sol.num_without_alcohol)\n",
    "print(\"test num_without_alcohol correct\")\n"
   ]
  },
  {
   "cell_type": "code",
   "execution_count": null,
   "metadata": {
    "deletable": false,
    "nbgrader": {
     "checksum": "993bc5f5e1071fce84c633b986bbf4f1",
     "grade": false,
     "grade_id": "q4",
     "locked": false,
     "schema_version": 1,
     "solution": true
    }
   },
   "outputs": [],
   "source": [
    "\"\"\"\n",
    "Part 04\n",
    "\n",
    "1. Create a pivot table called \"pivot_rating\" using the dataframe \"rating_final_df\".\n",
    "The index should be 'placeID'.  The values should be 'food_rating', 'rating', and 'service_rating'.\n",
    "Note: This will show the average 'food_rating', 'rating', and 'service_rating' for each place.\n",
    "\n",
    "2. Display the pivot table\n",
    "\"\"\"\n",
    "\n",
    "# YOUR CODE HERE\n"
   ]
  },
  {
   "cell_type": "code",
   "execution_count": null,
   "metadata": {
    "deletable": false,
    "editable": false,
    "nbgrader": {
     "checksum": "820d06c6bafd7cff3f829362e3af6d66",
     "grade": true,
     "grade_id": "q4_test",
     "locked": true,
     "points": 1,
     "schema_version": 1,
     "solution": false
    }
   },
   "outputs": [],
   "source": [
    "##########################\n",
    "### TEST YOUR SOLUTION ###\n",
    "##########################\n",
    "\n",
    "assert_frame_equal(pivot_rating, sol.pivot_rating)\n",
    "print(\"test pivot_rating correct\")\n"
   ]
  },
  {
   "cell_type": "code",
   "execution_count": null,
   "metadata": {},
   "outputs": [],
   "source": []
  }
 ],
 "metadata": {
  "anaconda-cloud": {},
  "kernelspec": {
   "display_name": "Python 3",
   "language": "python",
   "name": "python3"
  },
  "language_info": {
   "codemirror_mode": {
    "name": "ipython",
    "version": 3
   },
   "file_extension": ".py",
   "mimetype": "text/x-python",
   "name": "python",
   "nbconvert_exporter": "python",
   "pygments_lexer": "ipython3",
   "version": "3.6.9"
  }
 },
 "nbformat": 4,
 "nbformat_minor": 1
}
