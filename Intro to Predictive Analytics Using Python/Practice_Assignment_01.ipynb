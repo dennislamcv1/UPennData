{
 "cells": [
  {
   "cell_type": "markdown",
   "metadata": {
    "deletable": false,
    "editable": false,
    "nbgrader": {
     "checksum": "3ede5934a715de1737ddbf3d2d734fbb",
     "grade": false,
     "grade_id": "cell-3f6367686e0e0548",
     "locked": true,
     "schema_version": 1,
     "solution": false
    }
   },
   "source": [
    "# Practice Assignment 1"
   ]
  },
  {
   "cell_type": "markdown",
   "metadata": {
    "deletable": false,
    "editable": false,
    "nbgrader": {
     "checksum": "a6e195dd881cbfa0b84c5973479a14c3",
     "grade": false,
     "grade_id": "cell-2b7743af336e7e56",
     "locked": true,
     "schema_version": 1,
     "solution": false
    }
   },
   "source": [
    "In this assignment, you will analyze data in the Air Quality dataset to build a machine learning model that predicts air quality. You will analyze data in the ```AirQualityUCI.xlsx``` file and use functions from the pandas module for loading, inspecting, and querying the data. You are expected to preprocess the data and use the data to train machine learning models from the sklearn library to solve problems.\n",
    "\n",
    "More information about the dataset: https://archive.ics.uci.edu/dataset/360/air+quality\n",
    "\n",
    "For each question, there are clear instructions in each cell. Follow those instructions and write the code after each block of:\n",
    "```\n",
    "# YOUR CODE HERE\n",
    "```\n",
    "\n",
    "Please use the exact variable name if it is specified in the comment.\n",
    "\n",
    "We’ll run a Python test script against your program to test whether each function implementation is correct."
   ]
  },
  {
   "cell_type": "code",
   "execution_count": 1,
   "metadata": {
    "deletable": false,
    "editable": false,
    "nbgrader": {
     "checksum": "c2200096dae0d65576f7cf5faa718f5d",
     "grade": true,
     "grade_id": "init_test",
     "locked": true,
     "points": 0,
     "schema_version": 1,
     "solution": false
    }
   },
   "outputs": [],
   "source": [
    "%%capture\n",
    "########################################################\n",
    "### EXECUTE THIS CELL BEFORE YOU TEST YOUR SOLUTIONS ###\n",
    "########################################################\n",
    "\"\"\"\n",
    "Import all libraries needed for the entire exercise: numpy, pyplot\n",
    "\"\"\"\n",
    "import imp\n",
    "import numpy as np\n",
    "from nose.tools import assert_equal\n",
    "from pandas.util.testing import assert_frame_equal, assert_series_equal\n",
    "sol = imp.load_compiled(\"sol\", \"./.sol.py\")"
   ]
  },
  {
   "cell_type": "code",
   "execution_count": 2,
   "metadata": {
    "deletable": false,
    "nbgrader": {
     "checksum": "d2b71004cc960d6aa04000ebd77ff99c",
     "grade": false,
     "grade_id": "q1",
     "locked": false,
     "schema_version": 1,
     "solution": true
    }
   },
   "outputs": [
    {
     "data": {
      "text/plain": [
       "'\\nPart 01: Load the Dataset\\n\\n1. Import the pandas library.\\n\\n2. Use pandas to read the dataset from xlsx file. and save them to \"air_quality_df\". \\n   read_excel() will be a good tool to read it (Hint: You will need to set the \"engine\" parameter to engine=\\'openpyxl\\').\\n\\n3. Display the first 5 rows of the DataFrame.\\n\\n'"
      ]
     },
     "execution_count": 2,
     "metadata": {},
     "output_type": "execute_result"
    }
   ],
   "source": [
    "\"\"\"\n",
    "Part 01: Load the Dataset\n",
    "\n",
    "1. Import the pandas library.\n",
    "\n",
    "2. Use pandas to read the dataset from xlsx file. and save them to \"air_quality_df\". \n",
    "   read_excel() will be a good tool to read it (Hint: You will need to set the \"engine\" parameter to engine='openpyxl').\n",
    "\n",
    "3. Display the first 5 rows of the DataFrame.\n",
    "\n",
    "\"\"\"\n",
    "\n",
    "# YOUR CODE HERE\n"
   ]
  },
  {
   "cell_type": "code",
   "execution_count": 3,
   "metadata": {
    "deletable": false,
    "editable": false,
    "nbgrader": {
     "checksum": "e658a83e8004886cc4a1dc7798591188",
     "grade": true,
     "grade_id": "q1_test",
     "locked": true,
     "points": 1,
     "schema_version": 1,
     "solution": false
    }
   },
   "outputs": [
    {
     "ename": "NameError",
     "evalue": "name 'air_quality_df' is not defined",
     "output_type": "error",
     "traceback": [
      "\u001b[0;31m---------------------------------------------------------------------------\u001b[0m",
      "\u001b[0;31mNameError\u001b[0m                                 Traceback (most recent call last)",
      "\u001b[0;32m<ipython-input-3-5cdd61478037>\u001b[0m in \u001b[0;36m<module>\u001b[0;34m()\u001b[0m\n\u001b[1;32m      4\u001b[0m \u001b[0;34m\u001b[0m\u001b[0m\n\u001b[1;32m      5\u001b[0m \u001b[0;32mtry\u001b[0m\u001b[0;34m:\u001b[0m\u001b[0;34m\u001b[0m\u001b[0;34m\u001b[0m\u001b[0m\n\u001b[0;32m----> 6\u001b[0;31m     \u001b[0massert_frame_equal\u001b[0m\u001b[0;34m(\u001b[0m\u001b[0mair_quality_df\u001b[0m\u001b[0;34m,\u001b[0m \u001b[0msol\u001b[0m\u001b[0;34m.\u001b[0m\u001b[0mair_quality_df\u001b[0m\u001b[0;34m)\u001b[0m\u001b[0;34m\u001b[0m\u001b[0;34m\u001b[0m\u001b[0m\n\u001b[0m\u001b[1;32m      7\u001b[0m     \u001b[0mprint\u001b[0m\u001b[0;34m(\u001b[0m\u001b[0;34m\"Pass\"\u001b[0m\u001b[0;34m)\u001b[0m\u001b[0;34m\u001b[0m\u001b[0;34m\u001b[0m\u001b[0m\n\u001b[1;32m      8\u001b[0m \u001b[0;32mexcept\u001b[0m \u001b[0mAssertionError\u001b[0m \u001b[0;32mas\u001b[0m \u001b[0me\u001b[0m\u001b[0;34m:\u001b[0m\u001b[0;34m\u001b[0m\u001b[0;34m\u001b[0m\u001b[0m\n",
      "\u001b[0;31mNameError\u001b[0m: name 'air_quality_df' is not defined"
     ]
    }
   ],
   "source": [
    "##########################\n",
    "### TEST YOUR SOLUTION ###\n",
    "##########################\n",
    "\n",
    "try:\n",
    "    assert_frame_equal(air_quality_df, sol.air_quality_df)\n",
    "    print(\"Pass\")\n",
    "except AssertionError as e:\n",
    "    print(\"Test failed:\", e)"
   ]
  },
  {
   "cell_type": "code",
   "execution_count": null,
   "metadata": {
    "deletable": false,
    "nbgrader": {
     "checksum": "a6a91b1f4b269c8b5d56d144ba2d45d8",
     "grade": false,
     "grade_id": "q2",
     "locked": false,
     "schema_version": 1,
     "solution": true
    }
   },
   "outputs": [],
   "source": [
    "\"\"\"\n",
    "Part 02: Data Cleaning\n",
    "\n",
    "Data cleaning is crucial to ensure the quality of a linear regression model's prediction(s)\n",
    "1. Create a new dataframe called \"new_air_quality_df\" and set it equal to \"air_quality_df\"\n",
    "\n",
    "2. Drop the rows having missing values in \"new_air_quality_df\"\n",
    "\n",
    "3. Identify and remove any non-numeric or irrelevant columns that may interfere with model training. Let's \n",
    "assume 'Date' and 'Time' are irrelevant for our regression task.\n",
    "\"\"\"\n",
    "\n",
    "# YOUR CODE HERE\n"
   ]
  },
  {
   "cell_type": "code",
   "execution_count": null,
   "metadata": {
    "deletable": false,
    "editable": false,
    "nbgrader": {
     "checksum": "6c0255ac6f1553a60ac4484853ef85a2",
     "grade": true,
     "grade_id": "q2_test",
     "locked": true,
     "points": 1,
     "schema_version": 1,
     "solution": false
    }
   },
   "outputs": [],
   "source": [
    "##########################\n",
    "### TEST YOUR SOLUTION ###\n",
    "##########################\n",
    "\n",
    "try:\n",
    "    assert_frame_equal(new_air_quality_df, sol.new_air_quality_df)\n",
    "    print(\"Pass\")\n",
    "except AssertionError as e:\n",
    "    print(\"Test failed:\", e)\n"
   ]
  },
  {
   "cell_type": "code",
   "execution_count": null,
   "metadata": {
    "deletable": false,
    "nbgrader": {
     "checksum": "87d7032bc3aec35d0673160365afc262",
     "grade": false,
     "grade_id": "q3",
     "locked": false,
     "schema_version": 1,
     "solution": true
    }
   },
   "outputs": [],
   "source": [
    "\"\"\"\n",
    "Part 03: Exploratory Data Analysis (EDA)\n",
    "\n",
    "Perform basic EDA to understand the data in \"new_air_quality_df\"\n",
    "1. Import the matplotlib and seaborn libraries\n",
    "\n",
    "2. Plot histograms for the various features using matplotlib\n",
    "   a. Set the bins to 15\n",
    "   b. Set the figure size to (15, 10)\n",
    "   \n",
    "3. Plot a heatmap of the correlation matrix using seaborn\n",
    "   a. Set the annotations to True\n",
    "   b. Set the figure size to (12, 10)\n",
    "   \n",
    "   Note he: \n",
    "      Seaborn is a simple data visualization library based on matplotlib\n",
    "      Here is a useful link for plotting Heatmap using seaborn: https://www.geeksforgeeks.org/how-to-create-a-seaborn-correlation-heatmap-in-python/\n",
    "   \n",
    "   \n",
    "NOTE: \n",
    "- Your plot cannot be autograded.  \n",
    "- If you go to the guide, there will be a PDF with the solution plot.\n",
    "- Please check it and if your answer matches, set the variable q3_plot_check = 'yes' .   \n",
    "\n",
    "\"\"\"\n",
    "q3_plot_check = 'no' # change to yes after you verify your plot\n",
    "\n",
    "# YOUR CODE HERE\n"
   ]
  },
  {
   "cell_type": "code",
   "execution_count": null,
   "metadata": {
    "deletable": false,
    "editable": false,
    "nbgrader": {
     "checksum": "3259914dde944205f6fafe1f2956b30f",
     "grade": true,
     "grade_id": "q3_test",
     "locked": true,
     "points": 1,
     "schema_version": 1,
     "solution": false
    }
   },
   "outputs": [],
   "source": [
    "##########################\n",
    "### TEST YOUR SOLUTION ###\n",
    "##########################\n",
    "\n",
    "try:\n",
    "    assert_equal('yes', q3_plot_check)\n",
    "    print(\"Pass\")\n",
    "except AssertionError as e:\n",
    "    print(\"Test failed:\", e)\n",
    "\n"
   ]
  },
  {
   "cell_type": "code",
   "execution_count": null,
   "metadata": {
    "deletable": false,
    "nbgrader": {
     "checksum": "1bec384c2524a74ca8e75e2892f65e55",
     "grade": false,
     "grade_id": "q4",
     "locked": false,
     "schema_version": 1,
     "solution": true
    }
   },
   "outputs": [],
   "source": [
    "\"\"\"\n",
    "Part 04: Feature Engineering and Selection\n",
    "Prepare your data for the linear regression model\n",
    "1. Select the target variable, which should be the 'NO2(GT)' column\n",
    "2. Select the features, which will be all columns except for the target variable\n",
    "3. Split your data into training and testing sets using an 80-20 split and a random state of 42. The variables\n",
    "should be \"X_train\", \"X_test\", \"y_train\", and \"y_test\".\n",
    "4. Standardize your features using StandardScaler()\n",
    "\n",
    "\"\"\"\n",
    "# YOUR CODE HERE\n"
   ]
  },
  {
   "cell_type": "code",
   "execution_count": null,
   "metadata": {
    "deletable": false,
    "editable": false,
    "nbgrader": {
     "checksum": "90d0c9b51adecf1f5aa559b86a3372dc",
     "grade": true,
     "grade_id": "q4_test",
     "locked": true,
     "points": 1,
     "schema_version": 1,
     "solution": false
    }
   },
   "outputs": [],
   "source": [
    "##########################\n",
    "### TEST YOUR SOLUTION ###\n",
    "##########################\n",
    "\n",
    "try:\n",
    "    assert_frame_equal(X, sol.X)\n",
    "    assert_series_equal(y, sol.y)\n",
    "\n",
    "    np.testing.assert_equal(X_train, sol.X_train)\n",
    "    np.testing.assert_equal(X_test, sol.X_test)\n",
    "    assert_series_equal(y_train, sol.y_train)\n",
    "    assert_series_equal(y_test, sol.y_test)\n",
    "    print(\"Pass\")\n",
    "except AssertionError as e:\n",
    "    print(\"Test failed:\", e)\n",
    "\n"
   ]
  },
  {
   "cell_type": "code",
   "execution_count": null,
   "metadata": {
    "deletable": false,
    "nbgrader": {
     "checksum": "d07bd68e3e5e6e81ab1c694c25a5723d",
     "grade": false,
     "grade_id": "q5",
     "locked": false,
     "schema_version": 1,
     "solution": true
    }
   },
   "outputs": [],
   "source": [
    "\"\"\"\n",
    "Part 05: Build the Linear Regression Model\n",
    "\n",
    "Now, it's time to build and train your linear regression model\n",
    "1. Create a LinearRegression object\n",
    "\n",
    "2. Fit your model to the training data\n",
    "\n",
    "3. Predict the target variable for the test set. Save the result to \"y_pred\" and display it.\n",
    "\"\"\"\n",
    "\n",
    "# YOUR CODE HERE\n"
   ]
  },
  {
   "cell_type": "code",
   "execution_count": null,
   "metadata": {
    "deletable": false,
    "editable": false,
    "nbgrader": {
     "checksum": "848146f31dfac16b5886e3550148630e",
     "grade": true,
     "grade_id": "q5_test",
     "locked": true,
     "points": 1,
     "schema_version": 1,
     "solution": false
    }
   },
   "outputs": [],
   "source": [
    "##########################\n",
    "### TEST YOUR SOLUTION ###\n",
    "##########################\n",
    "\n",
    "try:\n",
    "    np.testing.assert_equal(y_pred, sol.y_pred)\n",
    "    print(\"Pass\")\n",
    "except AssertionError as e:\n",
    "    print(\"Test failed:\", e)\n",
    "\n",
    "\n"
   ]
  },
  {
   "cell_type": "code",
   "execution_count": null,
   "metadata": {
    "deletable": false,
    "nbgrader": {
     "checksum": "5ff054e4a3c30ccc736ab05653aa4606",
     "grade": false,
     "grade_id": "q6",
     "locked": false,
     "schema_version": 1,
     "solution": true
    }
   },
   "outputs": [],
   "source": [
    "\"\"\"\n",
    "Part 06: Model Evaluation\n",
    "\n",
    "Evaluate the performance of your linear regression model using the test set\n",
    "\n",
    "  1. Calculate the Mean Squared Error (MSE). Save it into \"mse\" variable.\n",
    "\"\"\"\n",
    "# YOUR CODE HERE\n"
   ]
  },
  {
   "cell_type": "code",
   "execution_count": null,
   "metadata": {
    "deletable": false,
    "editable": false,
    "nbgrader": {
     "checksum": "fdb0d479a51a13e587ff90354aec55bc",
     "grade": true,
     "grade_id": "q6_test",
     "locked": true,
     "points": 1,
     "schema_version": 1,
     "solution": false
    }
   },
   "outputs": [],
   "source": [
    "##########################\n",
    "### TEST YOUR SOLUTION ###\n",
    "##########################\n",
    "\n",
    "try:\n",
    "    np.testing.assert_almost_equal(mse, sol.mse, 2)\n",
    "    print(\"Pass\")\n",
    "except AssertionError as e:\n",
    "    print(\"Test failed:\", e)\n",
    "\n",
    "\n"
   ]
  },
  {
   "cell_type": "code",
   "execution_count": null,
   "metadata": {},
   "outputs": [],
   "source": []
  }
 ],
 "metadata": {
  "anaconda-cloud": {},
  "kernelspec": {
   "display_name": "Python 3",
   "language": "python",
   "name": "python3"
  },
  "language_info": {
   "codemirror_mode": {
    "name": "ipython",
    "version": 3
   },
   "file_extension": ".py",
   "mimetype": "text/x-python",
   "name": "python",
   "nbconvert_exporter": "python",
   "pygments_lexer": "ipython3",
   "version": "3.6.9"
  }
 },
 "nbformat": 4,
 "nbformat_minor": 1
}
