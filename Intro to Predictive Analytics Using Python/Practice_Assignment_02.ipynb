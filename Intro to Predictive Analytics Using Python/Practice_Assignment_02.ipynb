{
 "cells": [
  {
   "cell_type": "markdown",
   "metadata": {
    "deletable": false,
    "editable": false,
    "nbgrader": {
     "checksum": "f07d34aa65477f81a521185125c68ff8",
     "grade": false,
     "grade_id": "cell-3f6367686e0e0548",
     "locked": true,
     "schema_version": 1,
     "solution": false
    }
   },
   "source": [
    "# Practice Assignment 2"
   ]
  },
  {
   "cell_type": "markdown",
   "metadata": {
    "deletable": false,
    "editable": false,
    "nbgrader": {
     "checksum": "525f7a3721f3ef930047684ed74609ff",
     "grade": false,
     "grade_id": "cell-2b7743af336e7e56",
     "locked": true,
     "schema_version": 1,
     "solution": false
    }
   },
   "source": [
    "In this assignment, you will explore the Online Shoppers Purchasing Intention Dataset to build a machine learning model that predicts whether a visitor will make a purchase. you will analyze data in the online_shoppers_intention.csv file.You'll use functions from the pandas module for loading, inspecting and querying the data. You are expected to preprocess the data and use the data to train machine learning models from the sklearn library to solve problems.\n",
    "\n",
    "The useful dataset link: https://archive.ics.uci.edu/dataset/468/online+shoppers+purchasing+intention+dataset\n",
    "\n",
    "For each question, there are clear instructions in each cell. Follow those instructions and write the code after each block of:\n",
    "\n",
    "YOUR CODE HERE\n",
    "\n",
    "Please use the exact variable name if it is specified in the comment.\n",
    "\n",
    "We’ll run a Python test script against your program to test whether each function implementation is correct."
   ]
  },
  {
   "cell_type": "code",
   "execution_count": null,
   "metadata": {
    "deletable": false,
    "editable": false,
    "nbgrader": {
     "checksum": "dddf644a6a234bcf204b4f0f52f99f71",
     "grade": true,
     "grade_id": "init_test",
     "locked": true,
     "points": 0,
     "schema_version": 1,
     "solution": false
    }
   },
   "outputs": [],
   "source": [
    "%%capture\n",
    "###########################################################\n",
    "### EXECUTE THIS CELL BEFORE YOU TO TEST YOUR SOLUTIONS ###\n",
    "###########################################################\n",
    "\"\"\"\n",
    "Import all libraries needed for the entire exercise: numpy, pyplot, and seaborn\n",
    "\"\"\"\n",
    "import imp\n",
    "import numpy as np\n",
    "from nose.tools import assert_equal\n",
    "from pandas.util.testing import assert_frame_equal, assert_series_equal\n",
    "sol = imp.load_compiled(\"sol\", \"./.sol.py\")"
   ]
  },
  {
   "cell_type": "code",
   "execution_count": null,
   "metadata": {
    "deletable": false,
    "nbgrader": {
     "checksum": "3749c850cabebcc49de3386114488d88",
     "grade": false,
     "grade_id": "q1",
     "locked": false,
     "schema_version": 1,
     "solution": true
    }
   },
   "outputs": [],
   "source": [
    "\"\"\"\n",
    "Part 01: Setup and Data Loading\n",
    "\n",
    "1. Import the pandas library.\n",
    "\n",
    "2. Use pandas to read the dataset from the .csv file and save it to \"shoppers_df\". \n",
    "\n",
    "3. In certain datasets, a value of 0 (zero) can indicate missing information that was not recorded. \n",
    "   In the case of our dataset, assume that 0's represent missing data for the following analysis.\n",
    "   \n",
    "   Replace all 0 or 0.0 values in the DataFrame with NaN using replace(). \n",
    "   Hint: Make sure to set inplace to True.\n",
    "\n",
    "3. Display the first 5 rows of the DataFrame \"shoppers_df\".\n",
    "\n",
    "\"\"\"\n",
    "\n",
    "# YOUR CODE HERE\n"
   ]
  },
  {
   "cell_type": "code",
   "execution_count": null,
   "metadata": {
    "deletable": false,
    "editable": false,
    "nbgrader": {
     "checksum": "9b95fa8b06d475f3f1508053c122821a",
     "grade": true,
     "grade_id": "q1_test",
     "locked": true,
     "points": 1,
     "schema_version": 1,
     "solution": false
    }
   },
   "outputs": [],
   "source": [
    "##########################\n",
    "### TEST YOUR SOLUTION ###\n",
    "##########################\n",
    "\n",
    "assert_frame_equal(shoppers_df, sol.shoppers_df)\n"
   ]
  },
  {
   "cell_type": "code",
   "execution_count": null,
   "metadata": {
    "deletable": false,
    "nbgrader": {
     "checksum": "cb030b006c1fddda2535f043fa8e1b91",
     "grade": false,
     "grade_id": "q2",
     "locked": false,
     "schema_version": 1,
     "solution": true
    }
   },
   "outputs": [],
   "source": [
    "\"\"\"\n",
    "Part 02: Data Exploration\n",
    "\n",
    "1. Display the shape of the DataFrame \"shoppers_df\" to know the number of rows and columns. \n",
    "   Store the shape in a variable called \"shape_of_df\"\n",
    "\n",
    "2. Use the `info()` method on \"shoppers_df\" to display the summary including the data types \n",
    "   and the presence of null values.\n",
    "\n",
    "3. Create a variable named \"missing_values_count\" that stores the total count of missing \n",
    "   values in the DataFrame.\n",
    "\"\"\"\n",
    "\n",
    "# YOUR CODE HERE\n"
   ]
  },
  {
   "cell_type": "code",
   "execution_count": null,
   "metadata": {
    "deletable": false,
    "editable": false,
    "nbgrader": {
     "checksum": "5bbdee6026d00299ee9529768406037b",
     "grade": true,
     "grade_id": "q2_test",
     "locked": true,
     "points": 1,
     "schema_version": 1,
     "solution": false
    }
   },
   "outputs": [],
   "source": [
    "##########################\n",
    "### TEST YOUR SOLUTION ###\n",
    "##########################\n",
    "\n",
    "assert_equal(shape_of_df, sol.shape_of_df)\n"
   ]
  },
  {
   "cell_type": "code",
   "execution_count": null,
   "metadata": {
    "deletable": false,
    "nbgrader": {
     "checksum": "5c7dc5d84e307e08b5b026ff19aa6919",
     "grade": false,
     "grade_id": "q3",
     "locked": false,
     "schema_version": 1,
     "solution": true
    }
   },
   "outputs": [],
   "source": [
    "\"\"\"\n",
    "Part 03: Data Pre-processing\n",
    "\n",
    "1. First save old df to \"new_shoppers_df\"\n",
    "\n",
    "2. Inspect the dataset for missing values in each column and handle them appropriately. \n",
    "   For each column, fill any missing values with the mode of that column. Implement this using a for loop.\n",
    "\n",
    "3. Drop the 'Month' column from \"new_shoppers_df\" as it will not be used in further analysis.\n",
    "\n",
    "4. Perform one-hot encoding on the 'VisitorType' column. \n",
    "  \n",
    "  First, use `pd.get_dummies()` to create a DataFrame \"visitor_dummies\". \n",
    "  \n",
    "  Then, concatenate \"visitor_dummies\" with \"shoppers_df\"\n",
    "  \n",
    "  a. Hint: For more about pd.get_dummies(): \n",
    "       https://www.geeksforgeeks.org/python-pandas-get_dummies-method/\n",
    "  b. Do not forget to drop the old 'VisitorType' column\n",
    "  c. Set parameter drop_first = True. We only need k-1 catergoies to represent\n",
    "     k catergorical values. \n",
    "\n",
    "5. After the encoding and concatenation, display the first 5 rows of \"new_shoppers_df\" to verify the changes.\n",
    "  \n",
    "\"\"\"\n",
    "\n",
    "# YOUR CODE HERE\n"
   ]
  },
  {
   "cell_type": "code",
   "execution_count": null,
   "metadata": {
    "deletable": false,
    "editable": false,
    "nbgrader": {
     "checksum": "d22734fee50cd9af7538649a6e4661ea",
     "grade": true,
     "grade_id": "q3_test",
     "locked": true,
     "points": 1,
     "schema_version": 1,
     "solution": false
    }
   },
   "outputs": [],
   "source": [
    "##########################\n",
    "### TEST YOUR SOLUTION ###\n",
    "##########################\n",
    "\n",
    "assert_frame_equal(new_shoppers_df, sol.new_shoppers_df)\n"
   ]
  },
  {
   "cell_type": "code",
   "execution_count": null,
   "metadata": {
    "deletable": false,
    "nbgrader": {
     "checksum": "7b5f8fc2c481ca31a5f367a65c976b47",
     "grade": false,
     "grade_id": "q4",
     "locked": false,
     "schema_version": 1,
     "solution": true
    }
   },
   "outputs": [],
   "source": [
    "\"\"\"\n",
    "Part 04: Data Preparation for Modeling\n",
    "\n",
    "1. Separate the dataset into features and target variable (\"Revenue\"), \n",
    "   storing them in \"X\" and \"y\" respectively.\n",
    "   \n",
    "2. Further, split the dataset into training and test sets using `train_test_split()` \n",
    "   with a test size of 0.2 and a random state of 42. \n",
    "   Store the outputs in \"X_train\", \"X_test\", \"y_train\", \"y_test\".\n",
    "\n",
    "\"\"\"\n",
    "\n",
    "# YOUR CODE HERE\n"
   ]
  },
  {
   "cell_type": "code",
   "execution_count": null,
   "metadata": {
    "deletable": false,
    "editable": false,
    "nbgrader": {
     "checksum": "a418870a0eade36d3e4754eb41a0c15b",
     "grade": true,
     "grade_id": "q4_test",
     "locked": true,
     "points": 1,
     "schema_version": 1,
     "solution": false
    }
   },
   "outputs": [],
   "source": [
    "##########################\n",
    "### TEST YOUR SOLUTION ###\n",
    "##########################\n",
    "\n",
    "assert_frame_equal(X, sol.X)\n",
    "assert_series_equal(y, sol.y)\n",
    "\n",
    "assert_frame_equal(X_train, sol.X_train)\n",
    "assert_frame_equal(X_test, sol.X_test)\n",
    "assert_series_equal(y_train, sol.y_train)\n",
    "assert_series_equal(y_test, sol.y_test)\n"
   ]
  },
  {
   "cell_type": "code",
   "execution_count": null,
   "metadata": {
    "deletable": false,
    "nbgrader": {
     "checksum": "3e63c269b4dd29f1005f5207eb7fd981",
     "grade": false,
     "grade_id": "q5",
     "locked": false,
     "schema_version": 1,
     "solution": true
    }
   },
   "outputs": [],
   "source": [
    "\"\"\"\n",
    "Part 05: Model Selection & Training\n",
    "\n",
    "1. First, import libraries: LogisticRegression, accuracy_score and StandardScaler. \n",
    "   Use StandardScaler() to Scale the features\n",
    "   \n",
    "2. Train a logistic regression model using the training data and name the model \"logistic_model\". \n",
    "   Set max_iter to 1000.\n",
    "\n",
    "3. Make predictions on the test set using the \"logistic_model\" \n",
    "   and store the predictions in a variable \"y_pred\".\n",
    "\n",
    "4. Calculate the accuracy of the model on the test set and store it \n",
    "   in a variable \"model_accuracy\".\n",
    "\n",
    "5. Display the result for \"model_accuracy\"\n",
    "\"\"\"\n",
    "\n",
    "# YOUR CODE HERE\n"
   ]
  },
  {
   "cell_type": "code",
   "execution_count": null,
   "metadata": {
    "deletable": false,
    "editable": false,
    "nbgrader": {
     "checksum": "d03622c5c725e80ec03561ce35e34708",
     "grade": true,
     "grade_id": "q5_test",
     "locked": true,
     "points": 1,
     "schema_version": 1,
     "solution": false
    }
   },
   "outputs": [],
   "source": [
    "##########################\n",
    "### TEST YOUR SOLUTION ###\n",
    "##########################\n",
    "\n",
    "np.testing.assert_equal(y_pred, sol.y_pred)\n",
    "assert_equal(model_accuracy, sol.model_accuracy)\n"
   ]
  },
  {
   "cell_type": "code",
   "execution_count": null,
   "metadata": {
    "deletable": false,
    "nbgrader": {
     "checksum": "6fd1a783deab8b685bfb3f62bd8c017a",
     "grade": false,
     "grade_id": "q6",
     "locked": false,
     "schema_version": 1,
     "solution": true
    }
   },
   "outputs": [],
   "source": [
    "\"\"\"\n",
    "Part 06: Visualize the Confusion Matrix\n",
    "\n",
    "1. Import matplotlib.pyplot and seaborn here\n",
    "\n",
    "2. Calculate the confusion matrix using the actual and the predicted values.\n",
    "\n",
    "3. Create a heatmap using `matplotlib` and `seaborn` to visualize the confusion matrix.\n",
    "\n",
    "4. Ensure to label the heatmap with actual labels for better readability.\n",
    "\n",
    "NOTE: \n",
    "- Your plot cannot be autograded.  \n",
    "- If you go to the guide, there will be a PDF with the solution plot.\n",
    "- Please check it and if your answer matches, set the variable q6_plot_check = 'yes' .   \n",
    "\n",
    "\"\"\"\n",
    "\n",
    "q6_plot_check = 'no' # change to yes after you verify your plot\n",
    "\n",
    "# YOUR CODE HERE\n"
   ]
  },
  {
   "cell_type": "code",
   "execution_count": null,
   "metadata": {
    "deletable": false,
    "editable": false,
    "nbgrader": {
     "checksum": "3bb5e05e9520483335e958c2503800c8",
     "grade": true,
     "grade_id": "q6_test",
     "locked": true,
     "points": 1,
     "schema_version": 1,
     "solution": false
    }
   },
   "outputs": [],
   "source": [
    "##########################\n",
    "### TEST YOUR SOLUTION ###\n",
    "##########################\n",
    "\n",
    "assert_equal('yes', q6_plot_check)"
   ]
  },
  {
   "cell_type": "code",
   "execution_count": null,
   "metadata": {},
   "outputs": [],
   "source": []
  }
 ],
 "metadata": {
  "anaconda-cloud": {},
  "kernelspec": {
   "display_name": "Python 3",
   "language": "python",
   "name": "python3"
  },
  "language_info": {
   "codemirror_mode": {
    "name": "ipython",
    "version": 3
   },
   "file_extension": ".py",
   "mimetype": "text/x-python",
   "name": "python",
   "nbconvert_exporter": "python",
   "pygments_lexer": "ipython3",
   "version": "3.6.9"
  }
 },
 "nbformat": 4,
 "nbformat_minor": 1
}
